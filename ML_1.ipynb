{
  "nbformat": 4,
  "nbformat_minor": 0,
  "metadata": {
    "colab": {
      "provenance": [],
      "authorship_tag": "ABX9TyN0RmRkhPNMKBYwcEcMIc1Y",
      "include_colab_link": true
    },
    "kernelspec": {
      "name": "python3",
      "display_name": "Python 3"
    },
    "language_info": {
      "name": "python"
    }
  },
  "cells": [
    {
      "cell_type": "markdown",
      "metadata": {
        "id": "view-in-github",
        "colab_type": "text"
      },
      "source": [
        "<a href=\"https://colab.research.google.com/github/gafnaa/ml/blob/main/ML_1.ipynb\" target=\"_parent\"><img src=\"https://colab.research.google.com/assets/colab-badge.svg\" alt=\"Open In Colab\"/></a>"
      ]
    },
    {
      "cell_type": "markdown",
      "source": [
        "# 0. Dataset\n",
        "\n",
        "Dataset yang digunakan dalam Notebook ini adalah dataset Iris"
      ],
      "metadata": {
        "id": "6L7lrtx_c24O"
      }
    },
    {
      "cell_type": "code",
      "execution_count": 1,
      "metadata": {
        "id": "vtjTS7dVaXRg"
      },
      "outputs": [],
      "source": [
        "from sklearn import datasets\n",
        "iris = datasets.load_iris()\n",
        "x = iris.data\n",
        "y = iris.target"
      ]
    },
    {
      "cell_type": "markdown",
      "source": [
        "Dataset terdiri dari 3 kelas (Iris Setosa, Iris Versicoloir, Iris Virginica) dengan banyak data sejumlah 150. Atribut/Fitur dari dataset terdiri dari sepal length(cm), sepal width(cm), petal length(cm), dan petal width(cm)."
      ],
      "metadata": {
        "id": "sTQ6eieAdCb4"
      }
    },
    {
      "cell_type": "code",
      "source": [
        "print(\"Banyak data: \", len(x))"
      ],
      "metadata": {
        "colab": {
          "base_uri": "https://localhost:8080/"
        },
        "id": "tTHtkZQRmTeD",
        "outputId": "632a4b37-8f78-4da9-ab87-4c0dc02b4c49"
      },
      "execution_count": 3,
      "outputs": [
        {
          "output_type": "stream",
          "name": "stdout",
          "text": [
            "Banyak data:  150\n"
          ]
        }
      ]
    },
    {
      "cell_type": "code",
      "source": [
        "print(\"10 data pertama: \")\n",
        "print(x[:10])"
      ],
      "metadata": {
        "colab": {
          "base_uri": "https://localhost:8080/"
        },
        "id": "KP4eFe24mbzp",
        "outputId": "3a332783-a119-45bd-d93e-9aa36873d067"
      },
      "execution_count": 4,
      "outputs": [
        {
          "output_type": "stream",
          "name": "stdout",
          "text": [
            "10 data pertama: \n",
            "[[5.1 3.5 1.4 0.2]\n",
            " [4.9 3.  1.4 0.2]\n",
            " [4.7 3.2 1.3 0.2]\n",
            " [4.6 3.1 1.5 0.2]\n",
            " [5.  3.6 1.4 0.2]\n",
            " [5.4 3.9 1.7 0.4]\n",
            " [4.6 3.4 1.4 0.3]\n",
            " [5.  3.4 1.5 0.2]\n",
            " [4.4 2.9 1.4 0.2]\n",
            " [4.9 3.1 1.5 0.1]]\n"
          ]
        }
      ]
    },
    {
      "cell_type": "markdown",
      "source": [
        "# 1.1 Train-Validation Split\n",
        "\n",
        "Train-Validation Split dapat dilakukan dengan menjalankan potongan kode di bawah. Persentase pembagian data training dan data validasi dapat ditentukan dengan mengubah nilai parameter train_size"
      ],
      "metadata": {
        "id": "zjJlc4HvppPY"
      }
    },
    {
      "cell_type": "code",
      "source": [
        "from sklearn.model_selection import train_test_split\n",
        "\n",
        "x_train, x_test, y_train, y_test = train_test_split(x, y, train_size= 0.7)"
      ],
      "metadata": {
        "id": "31xoFZm4p1m5"
      },
      "execution_count": 5,
      "outputs": []
    },
    {
      "cell_type": "code",
      "source": [
        "print(\"Banyak data latih setelah dilakukan Train-Test Split: \", len(x_train))\n",
        "print(\"Banyak data uji setelah dilakukan Train-Test Split: \", len(x_test))"
      ],
      "metadata": {
        "colab": {
          "base_uri": "https://localhost:8080/"
        },
        "id": "nEakKZHtqDGg",
        "outputId": "97d1c141-8ed3-41ec-e788-9deea746f1d5"
      },
      "execution_count": 6,
      "outputs": [
        {
          "output_type": "stream",
          "name": "stdout",
          "text": [
            "Banyak data latih setelah dilakukan Train-Test Split:  105\n",
            "Banyak data uji setelah dilakukan Train-Test Split:  45\n"
          ]
        }
      ]
    },
    {
      "cell_type": "markdown",
      "source": [
        "KNN (K-Nearest Neighbors)"
      ],
      "metadata": {
        "id": "P2T1Xac4re-K"
      }
    },
    {
      "cell_type": "code",
      "source": [
        "from sklearn.neighbors import KNeighborsClassifier\n",
        "from sklearn import metrics\n",
        "\n",
        "knn = KNeighborsClassifier()\n",
        "\n",
        "knn.fit(x_train, y_train)\n",
        "y_pred = knn.predict(x_test)\n",
        "score = metrics.accuracy_score(y_test, y_pred)\n",
        "print(\"Akurasi dengan menggunakan Nearest Neighbor: \", score)"
      ],
      "metadata": {
        "colab": {
          "base_uri": "https://localhost:8080/"
        },
        "id": "ZZD3q0OpriWx",
        "outputId": "4a302e1c-388a-4b29-8b46-bd17fa100d96"
      },
      "execution_count": 7,
      "outputs": [
        {
          "output_type": "stream",
          "name": "stdout",
          "text": [
            "Akurasi dengan menggunakan Nearest Neighbor:  0.9555555555555556\n"
          ]
        }
      ]
    },
    {
      "cell_type": "markdown",
      "source": [
        "# Naive Bayes\n"
      ],
      "metadata": {
        "id": "Lc_mTpwTvKB8"
      }
    },
    {
      "cell_type": "code",
      "source": [
        "from sklearn import naive_bayes\n",
        "from sklearn import metrics\n",
        "\n",
        "nb = naive_bayes.BernoulliNB()\n",
        "\n",
        "nb.fit(x_train, y_train)\n",
        "y_pred = nb.predict(x_test)\n",
        "score = metrics.accuracy_score(y_test, y_pred)\n",
        "print(\"Akurasi dengan menggunakan Naive Bayes: \", score)"
      ],
      "metadata": {
        "colab": {
          "base_uri": "https://localhost:8080/"
        },
        "id": "DhxwNBqyvMs4",
        "outputId": "291766b3-a6b0-4899-e053-b1d3a17ad7fe"
      },
      "execution_count": 8,
      "outputs": [
        {
          "output_type": "stream",
          "name": "stdout",
          "text": [
            "Akurasi dengan menggunakan Naive Bayes:  0.28888888888888886\n"
          ]
        }
      ]
    }
  ]
}